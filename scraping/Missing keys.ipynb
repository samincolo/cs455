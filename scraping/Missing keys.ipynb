{
 "cells": [
  {
   "cell_type": "code",
   "execution_count": 1,
   "metadata": {},
   "outputs": [],
   "source": [
    "import os\n",
    "import json"
   ]
  },
  {
   "cell_type": "code",
   "execution_count": 21,
   "metadata": {},
   "outputs": [],
   "source": [
    "jobKeysScraped = set()\n",
    "arr = os.listdir('descriptions')\n",
    "for files in arr:\n",
    "    jobKeysScraped.add(files.split('.')[0])"
   ]
  },
  {
   "cell_type": "code",
   "execution_count": 25,
   "metadata": {},
   "outputs": [],
   "source": []
  },
  {
   "cell_type": "code",
   "execution_count": 14,
   "metadata": {},
   "outputs": [
    {
     "name": "stdout",
     "output_type": "stream",
     "text": [
      "0228158ee0f3c4fc\n"
     ]
    }
   ],
   "source": [
    "for x in jobKeysScraped:\n",
    "    print(x)\n",
    "    break"
   ]
  },
  {
   "cell_type": "code",
   "execution_count": 15,
   "metadata": {},
   "outputs": [
    {
     "data": {
      "text/plain": [
       "199580"
      ]
     },
     "execution_count": 15,
     "metadata": {},
     "output_type": "execute_result"
    }
   ],
   "source": [
    "len(jobKeysScraped)"
   ]
  },
  {
   "cell_type": "code",
   "execution_count": 22,
   "metadata": {},
   "outputs": [],
   "source": [
    "missing = set()"
   ]
  },
  {
   "cell_type": "code",
   "execution_count": 7,
   "metadata": {},
   "outputs": [],
   "source": []
  },
  {
   "cell_type": "code",
   "execution_count": 23,
   "metadata": {},
   "outputs": [],
   "source": [
    "for x in jobKeys:\n",
    "    if x in jobKeysScraped:\n",
    "        continue\n",
    "    else:\n",
    "        missing.add(x)"
   ]
  },
  {
   "cell_type": "code",
   "execution_count": 24,
   "metadata": {},
   "outputs": [
    {
     "data": {
      "text/plain": [
       "0"
      ]
     },
     "execution_count": 24,
     "metadata": {},
     "output_type": "execute_result"
    }
   ],
   "source": [
    "len(missing)"
   ]
  },
  {
   "cell_type": "code",
   "execution_count": 19,
   "metadata": {},
   "outputs": [
    {
     "data": {
      "text/plain": [
       "2"
      ]
     },
     "execution_count": 19,
     "metadata": {},
     "output_type": "execute_result"
    }
   ],
   "source": [
    "len(jobKeys) - len(jobKeysScraped)"
   ]
  },
  {
   "cell_type": "code",
   "execution_count": 20,
   "metadata": {},
   "outputs": [
    {
     "data": {
      "text/plain": [
       "{'3298c26ce2375587', '7eef2707dfcaf224'}"
      ]
     },
     "execution_count": 20,
     "metadata": {},
     "output_type": "execute_result"
    }
   ],
   "source": [
    "missing"
   ]
  },
  {
   "cell_type": "code",
   "execution_count": 12,
   "metadata": {},
   "outputs": [],
   "source": [
    "f = open(\"missing.txt\", \"a\")\n",
    "for x in missing:\n",
    "    f.write(str(x) + '\\n')\n",
    "f.close()"
   ]
  },
  {
   "cell_type": "code",
   "execution_count": 38,
   "metadata": {},
   "outputs": [
    {
     "name": "stdout",
     "output_type": "stream",
     "text": [
      "ef7b755de1dd3ac5\n",
      "e26df1780a4545e6\n",
      "1682b44aaebace6d\n",
      "89b7739eded1fb1b\n",
      "ab0d897cfdc79836\n",
      "037b7e5325d1a547\n",
      "550df05b719a68fe\n",
      "67546f82d07e5715\n",
      "30c16442de0ed413\n",
      "8c79bf080e4475d4\n",
      "e536fcca0a286eba\n",
      "1efa3c766b511ec8\n",
      "9e7b3ce63d2db28c\n",
      "5da77f031a4e72fe\n",
      "5aeb6e03c829c188\n",
      "89d560e93514f3c1\n",
      "5cdc67752fa1315a\n",
      "9c1db2fe7c0dd91c\n",
      "e083781a983eda8d\n",
      "1ed795cb186948f6\n",
      "873f7f616039d16b\n",
      "c3a815abf3315173\n",
      "8706bd447b739832\n",
      "824678cf9157be76\n",
      "9e998b21710f3514\n",
      "aad15b2c9ec78367\n",
      "c80316f3a6b25051\n",
      "26b4d34b73ee6645\n",
      "fbfbdd9bbad863ba\n",
      "c9c1274385530ea6\n",
      "0ce13e5d9274430b\n",
      "cec250cc4b90edf0\n",
      "e22559f505ff7ac2\n",
      "e49da76fc708e9fb\n",
      "4999beebac7f83c7\n",
      "fa833d56208eebb3\n",
      "f8079c3bd51510dc\n",
      "a6aff03f00ab8473\n",
      "5849c3ee468c7003\n",
      "b1572a331fca1866\n",
      "0f2d73ce0c9e57b4\n",
      "c3bc8fa2187b91f2\n",
      "d05f2ce7081907b7\n",
      "9fe4fe6924a7b7bd\n",
      "0228aafaab642d4c\n",
      "6c500948366dd997\n",
      "61862ae9f49a895a\n",
      "177f14f15aae06e1\n",
      "13ef7e9ce593e4d8\n",
      "9829f850af693bf5\n",
      "b06418f3d1594dfa\n",
      "16c5476f08c3d85b\n",
      "8459722f0e53a0f8\n",
      "14b18a0681322ce1\n",
      "423fe9a788be544a\n",
      "fb635daefe3ef311\n",
      "809d4d9c9096be69\n",
      "d26af819491f138a\n",
      "9e417d951a2968f9\n",
      "7f1b3ae0c829dc22\n",
      "ee1b24662a77534d\n",
      "df52cae7a48ff05a\n",
      "bafaddc78530afea\n",
      "a6c85b01f5fa03eb\n",
      "a70247565ca24b61\n",
      "b5ff6dac657d8c7a\n",
      "1c2fa14c1d4057b3\n",
      "142a298619173ed7\n",
      "d0860bae261cb2ef\n",
      "abbbbcae70f23995\n",
      "942264b835b4b90e\n",
      "30f878013b56dbaf\n",
      "3615b7cf6286c76f\n",
      "014ea5180535da41\n",
      "3250ed46a8600d6d\n",
      "0ba81fcec4416455\n",
      "b979abc0cd50c1b8\n",
      "3130ebc969671d8e\n",
      "f3019afdd12e88e1\n",
      "69bf0d21ebb95b1a\n",
      "160b8525cc358c34\n",
      "b5adf032e4e0128c\n",
      "89ed5c735c2d547c\n",
      "062a40cc53212387\n",
      "0faa080fca77098e\n",
      "52687a9c050cdac0\n",
      "536f78b9d9fe8c60\n",
      "373862bca8a41eee\n",
      "6d8f80e716fa704e\n",
      "ff3878741ce976da\n",
      "411a1a447f367b33\n",
      "7cffc0f9145450f2\n",
      "92b311bf124327cb\n",
      "73dc4defcc486c4e\n",
      "d2ca620c4bf62f9c\n",
      "4c2e32b59ccd2064\n",
      "4a19e8888000ff89\n",
      "4b1486412aae4b8a\n",
      "6d95cbd23da56589\n",
      "76893c5d751afd79\n"
     ]
    }
   ],
   "source": [
    "file1 = open('missing.txt', 'r')\n",
    "Lines = file1.readlines()\n",
    " \n",
    "count = 0\n",
    "for line in Lines:\n",
    "    print(line.strip())\n",
    "    count += 1\n",
    "    if(count >= 100):\n",
    "        break\n",
    "import requests\n",
    "import os\n",
    "from bs4 import BeautifulSoup\n",
    "import time\n",
    "import json\n",
    "import sys\n",
    "\n",
    "min = int(sys.argv[1])\n",
    "counter = 0\n",
    "max = min + 100\n",
    "trigger = False\n",
    "with open('mising.txt') as file:\n",
    "    Lines = file.readlines()\n",
    "    for jobs in Lines:\n",
    "        if counter > max:\n",
    "            break\n",
    "        if counter > min:\n",
    "            trigger = True\n",
    "        if(trigger):\n",
    "            r = requests.get(jobs.strip())\n",
    "            soup = BeautifulSoup(r.text,features='html.parser')\n",
    "            response = str(soup.find(id='jobDescriptionText'))\n",
    "            f = open(\"descriptions/\"+jobs['jobkey']+\".html\",\"a\")\n",
    "            f.write(response)\n",
    "            f.close()\n",
    "        counter = counter + 1"
   ]
  },
  {
   "cell_type": "code",
   "execution_count": null,
   "metadata": {},
   "outputs": [],
   "source": []
  }
 ],
 "metadata": {
  "kernelspec": {
   "display_name": "Python 3",
   "language": "python",
   "name": "python3"
  },
  "language_info": {
   "codemirror_mode": {
    "name": "ipython",
    "version": 3
   },
   "file_extension": ".py",
   "mimetype": "text/x-python",
   "name": "python",
   "nbconvert_exporter": "python",
   "pygments_lexer": "ipython3",
   "version": "3.7.4"
  }
 },
 "nbformat": 4,
 "nbformat_minor": 2
}
