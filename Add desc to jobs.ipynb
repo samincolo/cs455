{
 "cells": [
  {
   "cell_type": "code",
   "execution_count": 1,
   "metadata": {},
   "outputs": [],
   "source": [
    "import json"
   ]
  },
  {
   "cell_type": "code",
   "execution_count": 17,
   "metadata": {},
   "outputs": [],
   "source": [
    "with open('jobs.json') as json_file:\n",
    "    data = json.load(json_file)\n",
    "    for x in data:\n",
    "        with open('descriptions/'+str(x['jobkey'])+'.html', 'r') as test:\n",
    "            snip = test.read()\n",
    "            if snip == 'None':\n",
    "                snip = x['snippet']\n",
    "            x['description'] = snip\n",
    "    with open(\"your_json_file.json\", 'w') as f:\n",
    "        f.write(json.dumps(data, indent=4, separators=(',', ': ')))"
   ]
  },
  {
   "cell_type": "code",
   "execution_count": 6,
   "metadata": {},
   "outputs": [],
   "source": [
    "data[0]['description'] = \"test\""
   ]
  },
  {
   "cell_type": "code",
   "execution_count": 7,
   "metadata": {},
   "outputs": [
    {
     "data": {
      "text/plain": [
       "{'jobtitle': 'Bioinformatics Software Engineer, Production',\n",
       " 'company': 'Invitae',\n",
       " 'city': 'San Francisco',\n",
       " 'state': 'CA',\n",
       " 'country': 'US',\n",
       " 'language': 'en',\n",
       " 'formattedLocation': 'San Francisco, CA',\n",
       " 'source': 'InVitae',\n",
       " 'date': 'Wed, 31 Mar 2021 00:41:21 GMT',\n",
       " 'snippet': 'Experience with Javascript frameworks such as React. 3+ years experience in web development with Python, JavaScript, SQL and Docker.',\n",
       " 'url': 'https://www.indeed.com/viewjob?jk=6fe3246003f0a2be&qd=4Nmfn5qKhlpVKZfVvTKJQceWyTUgLRtQTab09PVVKkerrYWkYztq5e0AJqHYGqsCFt6GY9Kl1U6i1ne5GVZ8BwnkVRB90nXZnwQ62vvDu_zqAhSzImzghGm1GoZ7nsAp&indpubnum=1303284387458115&atk=1f2o4s3cohie7801',\n",
       " 'onmousedown': \"indeed_clk(this,'8598');\",\n",
       " 'latitude': 37.77906,\n",
       " 'longitude': -122.39585,\n",
       " 'jobkey': '6fe3246003f0a2be',\n",
       " 'sponsored': False,\n",
       " 'expired': False,\n",
       " 'indeedApply': True,\n",
       " 'formattedLocationFull': 'San Francisco, CA 94107',\n",
       " 'formattedRelativeTime': '8 days ago',\n",
       " 'stations': '',\n",
       " 'refNum': '3029156',\n",
       " 'description': 'test'}"
      ]
     },
     "execution_count": 7,
     "metadata": {},
     "output_type": "execute_result"
    }
   ],
   "source": [
    "data[0]"
   ]
  },
  {
   "cell_type": "code",
   "execution_count": null,
   "metadata": {},
   "outputs": [],
   "source": []
  }
 ],
 "metadata": {
  "kernelspec": {
   "display_name": "Python 3",
   "language": "python",
   "name": "python3"
  },
  "language_info": {
   "codemirror_mode": {
    "name": "ipython",
    "version": 3
   },
   "file_extension": ".py",
   "mimetype": "text/x-python",
   "name": "python",
   "nbconvert_exporter": "python",
   "pygments_lexer": "ipython3",
   "version": "3.7.4"
  }
 },
 "nbformat": 4,
 "nbformat_minor": 2
}
